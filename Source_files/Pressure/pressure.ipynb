{
 "cells": [
  {
   "cell_type": "code",
   "execution_count": null,
   "metadata": {},
   "outputs": [],
   "source": [
    "import numpy as np\n",
    "import matplotlib as plt\n",
    "import math\n",
    "\n",
    "\n",
    "\n",
    "\n",
    "\n",
    "\n",
    "def Vol(r):\n",
    "    return 4*math.pi*r**3/3\n",
    "\n",
    "\n",
    "def Nnum():\n",
    "    Xu = 200\n",
    "    Mu = 238\n",
    "    radius = [0.375]\n",
    "    Rf = radius[0]\n",
    "    fRo = 10.3\n",
    "    Bu = 10\n",
    "    Ufrac = Xu/Mu\n",
    "    fVol = 4*math.pi*Rf**3/3\n",
    "    gamma = 0.2\n",
    "    return fVol*fRo*Bu*gamma*Ufrac/100\n",
    "\n",
    "\n",
    "def mVol(r):\n",
    "    return Vol(r)/Nnum()\n",
    "\n",
    "#print(mVol(0.5))\n",
    "\n",
    "\n",
    "\n",
    "def Pressure():\n",
    "    R = 1\n",
    "    a = 2\n",
    "    b = 3\n",
    "    Temp = 300\n",
    "    mVol=10\n",
    "    P = R*Temp/(mVol - b) - a/(pow(Temp, 0.5) *mVol*(mVol+b))\n",
    "    return P\n",
    "    \n",
    "Pr = Pressure()\n",
    "print(Pr)\n"
   ]
  },
  {
   "cell_type": "markdown",
   "metadata": {},
   "source": []
  }
 ],
 "metadata": {
  "kernelspec": {
   "display_name": "Python 3",
   "language": "python",
   "name": "python3"
  },
  "language_info": {
   "codemirror_mode": {
    "name": "ipython",
    "version": 3
   },
   "file_extension": ".py",
   "mimetype": "text/x-python",
   "name": "python",
   "nbconvert_exporter": "python",
   "pygments_lexer": "ipython3",
   "version": "3.7.1"
  }
 },
 "nbformat": 4,
 "nbformat_minor": 2
}
